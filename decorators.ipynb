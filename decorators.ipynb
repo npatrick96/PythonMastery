{
 "cells": [
  {
   "cell_type": "markdown",
   "metadata": {},
   "source": [
    "# SOURCES\n",
    "* 1. https://www.youtube.com/watch?v=FsAPt_9Bf3U\n",
    "* 2. https://www.youtube.com/watch?v=fVon4QaY4wo\n",
    "* 3. http://simeonfranklin.com/blog/2012/jul/1/python-decorators-in-12-steps/"
   ]
  },
  {
   "cell_type": "markdown",
   "metadata": {},
   "source": [
    "* first class functions allow us to treat functions as any other objects\n",
    "* closures allow us to take advantage of first class functions and return an inner fucntion that remember and have access variables local to the scope in which they were created\n",
    "* nested functions are functions that are declared within other functions\n",
    "* defining functions within functions is a weird concept. It is like func-inception but useful! "
   ]
  },
  {
   "cell_type": "code",
   "execution_count": 1,
   "metadata": {
    "collapsed": false
   },
   "outputs": [
    {
     "name": "stdout",
     "output_type": "stream",
     "text": [
      "____________E X A M P L E 1____________\n",
      "5\n",
      "7\n"
     ]
    }
   ],
   "source": [
    "print(\"____________E X A M P L E 1____________\")\n",
    "def outside(x=5):\n",
    "    def printHello():\n",
    "        print (x)\n",
    "        #print (\"Hello\")\n",
    "    return printHello()\n",
    "\n",
    "\n",
    "myFunc5 = outside() \n",
    "myFunc7 = outside(7)  \n",
    "# print(myFunc5)\n",
    "# print(myFunc7)"
   ]
  },
  {
   "cell_type": "markdown",
   "metadata": {},
   "source": [
    "* the above line works even though the variable x is not passed into printHello\n",
    "* python is treating the function as a class, thus all functions defined within it have access to its variables\n",
    "* nested functions are however better than classes as they are easier to implement (less code to type)\n",
    "* in nested loops, you also don't have to specify which function to call, you can some conditional statements when implementing to take care of that beforehand"
   ]
  },
  {
   "cell_type": "code",
   "execution_count": 2,
   "metadata": {
    "collapsed": false
   },
   "outputs": [
    {
     "name": "stdout",
     "output_type": "stream",
     "text": [
      "____________E X A M P L E 2____________\n",
      "3 4\n"
     ]
    }
   ],
   "source": [
    "print(\"____________E X A M P L E 2____________\")\n",
    "def addOneOuter(myFunc):\n",
    "    def addOneInner():\n",
    "        return myFunc() + 1\n",
    "    return addOneInner()\n",
    "    \n",
    "def returnThree():\n",
    "    return 3\n",
    "    \n",
    "finalFunc = addOneOuter(returnThree)\n",
    "print(returnThree(), finalFunc)"
   ]
  },
  {
   "cell_type": "markdown",
   "metadata": {},
   "source": [
    "* This second example shows the basic structure of a decorator in Python. You can use nested loops to set up a decorator on a function so that you can override it or change how it behaves after you implement. This is useful when dealing with large functions in case you don't want to break or modify their inner structures but you want to modify their outputs by simply adding external code to take care of that.\n",
    "\n",
    "* For example if wanted from now to make returnThree return 4, we can apply the addOneOuter function to it, and that would take care of that.\n",
    "\n",
    "* This concept of decorators and nested functions is heavily used in Haskell, an awesome purely functional language that every Python programmer ought to check out at some point. #JustSaying!"
   ]
  },
  {
   "cell_type": "code",
   "execution_count": 3,
   "metadata": {
    "collapsed": false
   },
   "outputs": [
    {
     "name": "stdout",
     "output_type": "stream",
     "text": [
      "4\n"
     ]
    }
   ],
   "source": [
    "returnThree = addOneOuter(returnThree)\n",
    "print(returnThree) # returnThree is printing 4!"
   ]
  },
  {
   "cell_type": "markdown",
   "metadata": {},
   "source": [
    "* As you can see, the above works but it is kind of tedious and confusing at the same time, especilly Line 17. To avoid this, python has an asesome syntax that handles."
   ]
  },
  {
   "cell_type": "code",
   "execution_count": 4,
   "metadata": {
    "collapsed": false
   },
   "outputs": [
    {
     "name": "stdout",
     "output_type": "stream",
     "text": [
      "4\n"
     ]
    }
   ],
   "source": [
    "@addOneOuter\n",
    "def returnThree():\n",
    "    return 3\n",
    "    \n",
    "print(returnThree) # this line should print 4!"
   ]
  },
  {
   "cell_type": "markdown",
   "metadata": {},
   "source": [
    "* That END. For more, check the links at the top. Thanks! \n",
    "\n",
    "* N O T E: the code in this file was tested using Python 2.7.10. If it doesn't work on your machine, use the below commented lines to verify which version of Python you are using! You know, just in case!"
   ]
  },
  {
   "cell_type": "code",
   "execution_count": 5,
   "metadata": {
    "collapsed": false
   },
   "outputs": [
    {
     "name": "stdout",
     "output_type": "stream",
     "text": [
      "____________\n",
      "3.5.2 (default, Oct 11 2016, 04:59:56) \n",
      "[GCC 4.2.1 Compatible Apple LLVM 8.0.0 (clang-800.0.38)]\n",
      "____________\n",
      "3.5.2\n"
     ]
    }
   ],
   "source": [
    "print(\"____________\")\n",
    "\n",
    "import sys\n",
    "print(sys.version)\n",
    "\n",
    "print(\"____________\")\n",
    "\n",
    "import platform\n",
    "print(platform.python_version())"
   ]
  }
 ],
 "metadata": {
  "kernelspec": {
   "display_name": "Python 3",
   "language": "python",
   "name": "python3"
  },
  "language_info": {
   "codemirror_mode": {
    "name": "ipython",
    "version": 3
   },
   "file_extension": ".py",
   "mimetype": "text/x-python",
   "name": "python",
   "nbconvert_exporter": "python",
   "pygments_lexer": "ipython3",
   "version": "3.5.2"
  }
 },
 "nbformat": 4,
 "nbformat_minor": 1
}
